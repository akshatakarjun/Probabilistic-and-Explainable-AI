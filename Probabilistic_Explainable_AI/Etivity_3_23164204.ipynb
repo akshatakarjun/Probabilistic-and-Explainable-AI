{
  "cells": [
    {
      "cell_type": "markdown",
      "id": "b8e5ed62",
      "metadata": {
        "id": "b8e5ed62"
      },
      "source": [
        "<div>\n",
        "<img src=\"https://drive.google.com/uc?export=view&id=1vK33e_EqaHgBHcbRV_m38hx6IkG0blK_\" width=\"350\"/>\n",
        "</div>\n",
        "\n",
        "# **Artificial Intelligence - MSc**\n",
        "\n",
        "## CS6462 - PROBABILISTIC AND EXPLAINABLE AI\n",
        "## SEM2 2022/3\n",
        "\n",
        "### CS6462 Etivity 3 - Causal Graphical Model vs Bayesian Graphical Model\n",
        "\n",
        "### Instructor: Emil Vassev\n",
        "April 10th, 2023\n",
        "<br><br>\n",
        "Copyright (C) 2023 - All rights reserved, do not copy or distribute without permission of the author.\n",
        "***"
      ]
    },
    {
      "cell_type": "markdown",
      "id": "6c2603d7",
      "metadata": {
        "id": "6c2603d7"
      },
      "source": [
        "## Submission Info\n",
        "### Student Name: <span style=\"color:red\">Akshata </span>\n",
        "### Student Surname: <span style=\"color:red\">Bheemasamudra Mallikarjunappa </span>\n",
        "### Student ID: <span style=\"color:red\">23164204</span>\n",
        "### Date of Final Submission: <span style=\"color:red\">25/04/24</span>\n",
        "***"
      ]
    },
    {
      "cell_type": "markdown",
      "id": "a2b8d751",
      "metadata": {
        "id": "a2b8d751"
      },
      "source": [
        "## Task\n",
        "In this e-tivity, you are asked to build a Causal Graphical Model by using the <b>causalgraphicalmodels</b> library and do interventions on this model. Then you are asked to build the same model but as a Bayesian Network by using the <b>BayesianNetwork</b> construct of the <b>pgmpy.models</b> library. Both models need to cover a real-life scenario targeting getting late at work.\n",
        "\n",
        "## The real-life scenario\n",
        "\n",
        "Here, you can find a set of random variables X = {X1, X2, ... , X12}:\n",
        "<li>X1 = “late for work”</li>\n",
        "<li>X2 = “low speed due to long vehicle queues”</li>\n",
        "<li>X3 = “traffic jam”</li>\n",
        "<li>X4 = “traffic accident”</li>\n",
        "<li>X5 = “heavy rain”</li>\n",
        "<li>X6 = “snow”</li>\n",
        "<li>X7 = “slippery road”</li>\n",
        "<li>X8 = “getting up late”</li>\n",
        "<li>X9 = “road is blocked”</li>\n",
        "<li>X10 = “taking a longer alternative route”</li>\n",
        "<li>X11 = “car malfunction”</li>\n",
        "<li>X12 = “car towing”</li>\n",
        "\n",
        "Use your logic to build a <b>realistic</b> causal network, which then can be transformed to a Bayesian Network (Causal Bayesian Network). In this network, the parent-child relationships should be deduced based on your logic. You need to use all the random variables.\n",
        "    \n",
        "### Here are the steps you need to follow:"
      ]
    },
    {
      "cell_type": "markdown",
      "id": "a2788722",
      "metadata": {
        "id": "a2788722"
      },
      "source": [
        "## Step 1: Create and Execute the Causal Network (50%)"
      ]
    },
    {
      "cell_type": "markdown",
      "id": "6b20db4c",
      "metadata": {
        "id": "6b20db4c"
      },
      "source": [
        "### Step 1.1. Describe your logic of deducing the causal relationships. (10%)\n",
        "Outline the problem in terms of:\n",
        "<li>causal dependencies among the random variables</li> - Here, the evidence is X1 random variable which is being late for work. However, there are various causes (random variables X2 -X12) for a person being late for work. The logic deduced here contains four edges of causes that lead to X1. The first edge is due to variables X6 leading to X7 leading to X2. The second edge is a direct cause which is X8. The third edge is X11 leading to X12 -> X9 -> X10 which causes X1. The fourth edge caused by X3 has two independedn variables X4 and X5.  Therefore, taking a longer alternative route, low speed due to long vehicle queues, traffic jam and getting up late are the main causes of getting late to work. However these cause in turn have other causes as mentioned above.\n",
        "<li>short rationale on the parent-child relationships</li>The first parent-child relationship is X1 is the child which has 4 parent nodes (X2, X8, X3, X10)\n",
        " whereas in turn we have X4 & X5 being the parent and X3 is the child and similarly for the other nodes."
      ]
    },
    {
      "cell_type": "markdown",
      "id": "dc9249ff",
      "metadata": {
        "id": "dc9249ff"
      },
      "source": []
    },
    {
      "cell_type": "markdown",
      "id": "ee5b9a4b",
      "metadata": {
        "id": "ee5b9a4b"
      },
      "source": [
        "### Step 1.2: Create and show the Causal DAG (30%)"
      ]
    },
    {
      "cell_type": "code",
      "source": [
        "!pip install causalgraphicalmodels"
      ],
      "metadata": {
        "colab": {
          "base_uri": "https://localhost:8080/"
        },
        "id": "HrTR5DO1Jag0",
        "outputId": "2a744e43-fa0e-444d-ce82-9091c4779ced"
      },
      "id": "HrTR5DO1Jag0",
      "execution_count": null,
      "outputs": [
        {
          "output_type": "stream",
          "name": "stdout",
          "text": [
            "Collecting causalgraphicalmodels\n",
            "  Downloading causalgraphicalmodels-0.0.4-py3-none-any.whl (11 kB)\n",
            "Requirement already satisfied: graphviz in /usr/local/lib/python3.10/dist-packages (from causalgraphicalmodels) (0.20.3)\n",
            "Requirement already satisfied: networkx in /usr/local/lib/python3.10/dist-packages (from causalgraphicalmodels) (3.3)\n",
            "Requirement already satisfied: numpy in /usr/local/lib/python3.10/dist-packages (from causalgraphicalmodels) (1.25.2)\n",
            "Requirement already satisfied: pandas in /usr/local/lib/python3.10/dist-packages (from causalgraphicalmodels) (2.0.3)\n",
            "Requirement already satisfied: python-dateutil>=2.8.2 in /usr/local/lib/python3.10/dist-packages (from pandas->causalgraphicalmodels) (2.8.2)\n",
            "Requirement already satisfied: pytz>=2020.1 in /usr/local/lib/python3.10/dist-packages (from pandas->causalgraphicalmodels) (2023.4)\n",
            "Requirement already satisfied: tzdata>=2022.1 in /usr/local/lib/python3.10/dist-packages (from pandas->causalgraphicalmodels) (2024.1)\n",
            "Requirement already satisfied: six>=1.5 in /usr/local/lib/python3.10/dist-packages (from python-dateutil>=2.8.2->pandas->causalgraphicalmodels) (1.16.0)\n",
            "Installing collected packages: causalgraphicalmodels\n",
            "Successfully installed causalgraphicalmodels-0.0.4\n"
          ]
        }
      ]
    },
    {
      "cell_type": "code",
      "execution_count": null,
      "id": "7ed86963",
      "metadata": {
        "id": "7ed86963"
      },
      "outputs": [],
      "source": [
        "# installing causal graphical model library\n",
        "from causalgraphicalmodels import CausalGraphicalModel"
      ]
    },
    {
      "cell_type": "code",
      "source": [
        "# defining the random variables for each nodes\n",
        "X1 = 'late for work'\n",
        "X2 = 'low speed due to long vehicle queues'\n",
        "X3 = 'traffic jam'\n",
        "X4 = 'traffic accident'\n",
        "X5 = 'heavy rain'\n",
        "X6 = 'snow'\n",
        "X7 = 'slippery road'\n",
        "X8 = 'getting up late'\n",
        "X9 = 'road is blocked'\n",
        "X10 ='taking a longer alternative route'\n",
        "X11 ='car malfunction'\n",
        "X12 ='car towing'"
      ],
      "metadata": {
        "id": "B50EP4pcyLOq"
      },
      "id": "B50EP4pcyLOq",
      "execution_count": null,
      "outputs": []
    },
    {
      "cell_type": "code",
      "source": [
        "# creating the causal graphical model by defining the edges and nodes\n",
        "late_to_work = CausalGraphicalModel(nodes = [X1,X2,X3,X4,X5,X6,X7,X8,X9,X10,X11,X12], edges = [(X8,X1),(X6,X7),(X7,X2),(X2,X1),(X5,X4),(X4,X3),(X3,X1),(X11,X12),(X12,X9),(X9,X10),(X10,X1)])"
      ],
      "metadata": {
        "id": "q4-z4GlGI_rO"
      },
      "id": "q4-z4GlGI_rO",
      "execution_count": null,
      "outputs": []
    },
    {
      "cell_type": "code",
      "source": [
        "late_to_work.draw()"
      ],
      "metadata": {
        "colab": {
          "base_uri": "https://localhost:8080/",
          "height": 464
        },
        "id": "0PwjQmPcyw59",
        "outputId": "cbccfc55-9171-4202-af10-ebb3bcb3cfa3"
      },
      "id": "0PwjQmPcyw59",
      "execution_count": null,
      "outputs": [
        {
          "output_type": "execute_result",
          "data": {
            "image/svg+xml": "<?xml version=\"1.0\" encoding=\"UTF-8\" standalone=\"no\"?>\n<!DOCTYPE svg PUBLIC \"-//W3C//DTD SVG 1.1//EN\"\n \"http://www.w3.org/Graphics/SVG/1.1/DTD/svg11.dtd\">\n<!-- Generated by graphviz version 2.43.0 (0)\n -->\n<!-- Title: %3 Pages: 1 -->\n<svg width=\"818pt\" height=\"332pt\"\n viewBox=\"0.00 0.00 817.88 332.00\" xmlns=\"http://www.w3.org/2000/svg\" xmlns:xlink=\"http://www.w3.org/1999/xlink\">\n<g id=\"graph0\" class=\"graph\" transform=\"scale(1 1) rotate(0) translate(4 328)\">\n<title>%3</title>\n<polygon fill=\"white\" stroke=\"transparent\" points=\"-4,4 -4,-328 813.88,-328 813.88,4 -4,4\"/>\n<!-- late for work -->\n<g id=\"node1\" class=\"node\">\n<title>late for work</title>\n<ellipse fill=\"none\" stroke=\"black\" cx=\"515.14\" cy=\"-18\" rx=\"56.59\" ry=\"18\"/>\n<text text-anchor=\"middle\" x=\"515.14\" y=\"-14.3\" font-family=\"Times,serif\" font-size=\"14.00\">late for work</text>\n</g>\n<!-- taking a longer alternative route -->\n<g id=\"node2\" class=\"node\">\n<title>taking a longer alternative route</title>\n<ellipse fill=\"none\" stroke=\"black\" cx=\"124.14\" cy=\"-90\" rx=\"124.28\" ry=\"18\"/>\n<text text-anchor=\"middle\" x=\"124.14\" y=\"-86.3\" font-family=\"Times,serif\" font-size=\"14.00\">taking a longer alternative route</text>\n</g>\n<!-- taking a longer alternative route&#45;&gt;late for work -->\n<g id=\"edge9\" class=\"edge\">\n<title>taking a longer alternative route&#45;&gt;late for work</title>\n<path fill=\"none\" stroke=\"black\" d=\"M199.07,-75.59C274.15,-62.14 388.17,-41.73 456.78,-29.45\"/>\n<polygon fill=\"black\" stroke=\"black\" points=\"457.75,-32.83 466.98,-27.62 456.52,-25.94 457.75,-32.83\"/>\n</g>\n<!-- slippery road -->\n<g id=\"node3\" class=\"node\">\n<title>slippery road</title>\n<ellipse fill=\"none\" stroke=\"black\" cx=\"410.14\" cy=\"-162\" rx=\"57.39\" ry=\"18\"/>\n<text text-anchor=\"middle\" x=\"410.14\" y=\"-158.3\" font-family=\"Times,serif\" font-size=\"14.00\">slippery road</text>\n</g>\n<!-- low speed due to long vehicle queues -->\n<g id=\"node4\" class=\"node\">\n<title>low speed due to long vehicle queues</title>\n<ellipse fill=\"none\" stroke=\"black\" cx=\"410.14\" cy=\"-90\" rx=\"143.77\" ry=\"18\"/>\n<text text-anchor=\"middle\" x=\"410.14\" y=\"-86.3\" font-family=\"Times,serif\" font-size=\"14.00\">low speed due to long vehicle queues</text>\n</g>\n<!-- slippery road&#45;&gt;low speed due to long vehicle queues -->\n<g id=\"edge6\" class=\"edge\">\n<title>slippery road&#45;&gt;low speed due to long vehicle queues</title>\n<path fill=\"none\" stroke=\"black\" d=\"M410.14,-143.7C410.14,-135.98 410.14,-126.71 410.14,-118.11\"/>\n<polygon fill=\"black\" stroke=\"black\" points=\"413.64,-118.1 410.14,-108.1 406.64,-118.1 413.64,-118.1\"/>\n</g>\n<!-- low speed due to long vehicle queues&#45;&gt;late for work -->\n<g id=\"edge1\" class=\"edge\">\n<title>low speed due to long vehicle queues&#45;&gt;late for work</title>\n<path fill=\"none\" stroke=\"black\" d=\"M435.29,-72.23C449.69,-62.63 467.91,-50.49 483.3,-40.23\"/>\n<polygon fill=\"black\" stroke=\"black\" points=\"485.61,-42.89 491.99,-34.43 481.73,-37.07 485.61,-42.89\"/>\n</g>\n<!-- traffic jam -->\n<g id=\"node5\" class=\"node\">\n<title>traffic jam</title>\n<ellipse fill=\"none\" stroke=\"black\" cx=\"620.14\" cy=\"-90\" rx=\"48.19\" ry=\"18\"/>\n<text text-anchor=\"middle\" x=\"620.14\" y=\"-86.3\" font-family=\"Times,serif\" font-size=\"14.00\">traffic jam</text>\n</g>\n<!-- traffic jam&#45;&gt;late for work -->\n<g id=\"edge2\" class=\"edge\">\n<title>traffic jam&#45;&gt;late for work</title>\n<path fill=\"none\" stroke=\"black\" d=\"M597.61,-73.98C582.87,-64.15 563.38,-51.16 547.05,-40.27\"/>\n<polygon fill=\"black\" stroke=\"black\" points=\"548.62,-37.11 538.35,-34.48 544.73,-42.94 548.62,-37.11\"/>\n</g>\n<!-- getting up late -->\n<g id=\"node6\" class=\"node\">\n<title>getting up late</title>\n<ellipse fill=\"none\" stroke=\"black\" cx=\"748.14\" cy=\"-90\" rx=\"61.99\" ry=\"18\"/>\n<text text-anchor=\"middle\" x=\"748.14\" y=\"-86.3\" font-family=\"Times,serif\" font-size=\"14.00\">getting up late</text>\n</g>\n<!-- getting up late&#45;&gt;late for work -->\n<g id=\"edge7\" class=\"edge\">\n<title>getting up late&#45;&gt;late for work</title>\n<path fill=\"none\" stroke=\"black\" d=\"M706.75,-76.57C667.04,-64.64 607.04,-46.61 564.78,-33.91\"/>\n<polygon fill=\"black\" stroke=\"black\" points=\"565.56,-30.49 554.97,-30.97 563.54,-37.2 565.56,-30.49\"/>\n</g>\n<!-- car towing -->\n<g id=\"node7\" class=\"node\">\n<title>car towing</title>\n<ellipse fill=\"none\" stroke=\"black\" cx=\"124.14\" cy=\"-234\" rx=\"48.19\" ry=\"18\"/>\n<text text-anchor=\"middle\" x=\"124.14\" y=\"-230.3\" font-family=\"Times,serif\" font-size=\"14.00\">car towing</text>\n</g>\n<!-- road is blocked -->\n<g id=\"node10\" class=\"node\">\n<title>road is blocked</title>\n<ellipse fill=\"none\" stroke=\"black\" cx=\"124.14\" cy=\"-162\" rx=\"64.99\" ry=\"18\"/>\n<text text-anchor=\"middle\" x=\"124.14\" y=\"-158.3\" font-family=\"Times,serif\" font-size=\"14.00\">road is blocked</text>\n</g>\n<!-- car towing&#45;&gt;road is blocked -->\n<g id=\"edge11\" class=\"edge\">\n<title>car towing&#45;&gt;road is blocked</title>\n<path fill=\"none\" stroke=\"black\" d=\"M124.14,-215.7C124.14,-207.98 124.14,-198.71 124.14,-190.11\"/>\n<polygon fill=\"black\" stroke=\"black\" points=\"127.64,-190.1 124.14,-180.1 120.64,-190.1 127.64,-190.1\"/>\n</g>\n<!-- snow -->\n<g id=\"node8\" class=\"node\">\n<title>snow</title>\n<ellipse fill=\"none\" stroke=\"black\" cx=\"410.14\" cy=\"-234\" rx=\"29.5\" ry=\"18\"/>\n<text text-anchor=\"middle\" x=\"410.14\" y=\"-230.3\" font-family=\"Times,serif\" font-size=\"14.00\">snow</text>\n</g>\n<!-- snow&#45;&gt;slippery road -->\n<g id=\"edge5\" class=\"edge\">\n<title>snow&#45;&gt;slippery road</title>\n<path fill=\"none\" stroke=\"black\" d=\"M410.14,-215.7C410.14,-207.98 410.14,-198.71 410.14,-190.11\"/>\n<polygon fill=\"black\" stroke=\"black\" points=\"413.64,-190.1 410.14,-180.1 406.64,-190.1 413.64,-190.1\"/>\n</g>\n<!-- car malfunction -->\n<g id=\"node9\" class=\"node\">\n<title>car malfunction</title>\n<ellipse fill=\"none\" stroke=\"black\" cx=\"124.14\" cy=\"-306\" rx=\"66.89\" ry=\"18\"/>\n<text text-anchor=\"middle\" x=\"124.14\" y=\"-302.3\" font-family=\"Times,serif\" font-size=\"14.00\">car malfunction</text>\n</g>\n<!-- car malfunction&#45;&gt;car towing -->\n<g id=\"edge10\" class=\"edge\">\n<title>car malfunction&#45;&gt;car towing</title>\n<path fill=\"none\" stroke=\"black\" d=\"M124.14,-287.7C124.14,-279.98 124.14,-270.71 124.14,-262.11\"/>\n<polygon fill=\"black\" stroke=\"black\" points=\"127.64,-262.1 124.14,-252.1 120.64,-262.1 127.64,-262.1\"/>\n</g>\n<!-- road is blocked&#45;&gt;taking a longer alternative route -->\n<g id=\"edge8\" class=\"edge\">\n<title>road is blocked&#45;&gt;taking a longer alternative route</title>\n<path fill=\"none\" stroke=\"black\" d=\"M124.14,-143.7C124.14,-135.98 124.14,-126.71 124.14,-118.11\"/>\n<polygon fill=\"black\" stroke=\"black\" points=\"127.64,-118.1 124.14,-108.1 120.64,-118.1 127.64,-118.1\"/>\n</g>\n<!-- traffic accident -->\n<g id=\"node11\" class=\"node\">\n<title>traffic accident</title>\n<ellipse fill=\"none\" stroke=\"black\" cx=\"620.14\" cy=\"-162\" rx=\"63.89\" ry=\"18\"/>\n<text text-anchor=\"middle\" x=\"620.14\" y=\"-158.3\" font-family=\"Times,serif\" font-size=\"14.00\">traffic accident</text>\n</g>\n<!-- traffic accident&#45;&gt;traffic jam -->\n<g id=\"edge3\" class=\"edge\">\n<title>traffic accident&#45;&gt;traffic jam</title>\n<path fill=\"none\" stroke=\"black\" d=\"M620.14,-143.7C620.14,-135.98 620.14,-126.71 620.14,-118.11\"/>\n<polygon fill=\"black\" stroke=\"black\" points=\"623.64,-118.1 620.14,-108.1 616.64,-118.1 623.64,-118.1\"/>\n</g>\n<!-- heavy rain -->\n<g id=\"node12\" class=\"node\">\n<title>heavy rain</title>\n<ellipse fill=\"none\" stroke=\"black\" cx=\"620.14\" cy=\"-234\" rx=\"48.19\" ry=\"18\"/>\n<text text-anchor=\"middle\" x=\"620.14\" y=\"-230.3\" font-family=\"Times,serif\" font-size=\"14.00\">heavy rain</text>\n</g>\n<!-- heavy rain&#45;&gt;traffic accident -->\n<g id=\"edge4\" class=\"edge\">\n<title>heavy rain&#45;&gt;traffic accident</title>\n<path fill=\"none\" stroke=\"black\" d=\"M620.14,-215.7C620.14,-207.98 620.14,-198.71 620.14,-190.11\"/>\n<polygon fill=\"black\" stroke=\"black\" points=\"623.64,-190.1 620.14,-180.1 616.64,-190.1 623.64,-190.1\"/>\n</g>\n</g>\n</svg>\n",
            "text/plain": [
              "<graphviz.graphs.Digraph at 0x794da6855840>"
            ]
          },
          "metadata": {},
          "execution_count": 23
        }
      ]
    },
    {
      "cell_type": "markdown",
      "id": "c0ecd215",
      "metadata": {
        "id": "c0ecd215"
      },
      "source": [
        "### Step 1.3: Show the Joint Distibution of the Causal Network (1%)"
      ]
    },
    {
      "cell_type": "code",
      "execution_count": null,
      "id": "db48a940",
      "metadata": {
        "id": "db48a940",
        "colab": {
          "base_uri": "https://localhost:8080/"
        },
        "outputId": "f1074025-0895-4962-9230-30cace11e422"
      },
      "outputs": [
        {
          "output_type": "stream",
          "name": "stdout",
          "text": [
            "P(heavy rain)P(snow)P(getting up late)P(car malfunction)P(traffic accident|heavy rain)P(slippery road|snow)P(car towing|car malfunction)P(traffic jam|traffic accident)P(low speed due to long vehicle queues|slippery road)P(road is blocked|car towing)P(taking a longer alternative route|road is blocked)P(late for work|getting up late,low speed due to long vehicle queues,traffic jam,taking a longer alternative route)\n"
          ]
        }
      ],
      "source": [
        "print(late_to_work.get_distribution())"
      ]
    },
    {
      "cell_type": "markdown",
      "id": "f33fdb51",
      "metadata": {
        "id": "f33fdb51"
      },
      "source": [
        "### Step 1.4: Run the intervention do(“road is blocked”) (7%)"
      ]
    },
    {
      "cell_type": "code",
      "execution_count": null,
      "id": "047e9c72",
      "metadata": {
        "id": "047e9c72"
      },
      "outputs": [],
      "source": [
        "late_to_work_do = late_to_work.do(X9)"
      ]
    },
    {
      "cell_type": "markdown",
      "id": "c4a839dc",
      "metadata": {
        "id": "c4a839dc"
      },
      "source": [
        "### Step 1.5: Show the Causal DAG with the intervention \"on\" (1%)"
      ]
    },
    {
      "cell_type": "code",
      "execution_count": null,
      "id": "cd305a3b",
      "metadata": {
        "id": "cd305a3b",
        "colab": {
          "base_uri": "https://localhost:8080/",
          "height": 378
        },
        "outputId": "65d5744e-4b0c-45d6-ee6f-1663610388de"
      },
      "outputs": [
        {
          "output_type": "execute_result",
          "data": {
            "image/svg+xml": "<?xml version=\"1.0\" encoding=\"UTF-8\" standalone=\"no\"?>\n<!DOCTYPE svg PUBLIC \"-//W3C//DTD SVG 1.1//EN\"\n \"http://www.w3.org/Graphics/SVG/1.1/DTD/svg11.dtd\">\n<!-- Generated by graphviz version 2.43.0 (0)\n -->\n<!-- Title: %3 Pages: 1 -->\n<svg width=\"828pt\" height=\"268pt\"\n viewBox=\"0.00 0.00 828.08 268.00\" xmlns=\"http://www.w3.org/2000/svg\" xmlns:xlink=\"http://www.w3.org/1999/xlink\">\n<g id=\"graph0\" class=\"graph\" transform=\"scale(1 1) rotate(0) translate(4 264)\">\n<title>%3</title>\n<polygon fill=\"white\" stroke=\"transparent\" points=\"-4,4 -4,-264 824.08,-264 824.08,4 -4,4\"/>\n<!-- late for work -->\n<g id=\"node1\" class=\"node\">\n<title>late for work</title>\n<ellipse fill=\"none\" stroke=\"black\" cx=\"515.14\" cy=\"-18\" rx=\"56.59\" ry=\"18\"/>\n<text text-anchor=\"middle\" x=\"515.14\" y=\"-14.3\" font-family=\"Times,serif\" font-size=\"14.00\">late for work</text>\n</g>\n<!-- taking a longer alternative route -->\n<g id=\"node2\" class=\"node\">\n<title>taking a longer alternative route</title>\n<ellipse fill=\"none\" stroke=\"black\" cx=\"124.14\" cy=\"-90\" rx=\"124.28\" ry=\"18\"/>\n<text text-anchor=\"middle\" x=\"124.14\" y=\"-86.3\" font-family=\"Times,serif\" font-size=\"14.00\">taking a longer alternative route</text>\n</g>\n<!-- taking a longer alternative route&#45;&gt;late for work -->\n<g id=\"edge1\" class=\"edge\">\n<title>taking a longer alternative route&#45;&gt;late for work</title>\n<path fill=\"none\" stroke=\"black\" d=\"M199.07,-75.59C274.15,-62.14 388.17,-41.73 456.78,-29.45\"/>\n<polygon fill=\"black\" stroke=\"black\" points=\"457.75,-32.83 466.98,-27.62 456.52,-25.94 457.75,-32.83\"/>\n</g>\n<!-- slippery road -->\n<g id=\"node3\" class=\"node\">\n<title>slippery road</title>\n<ellipse fill=\"none\" stroke=\"black\" cx=\"410.14\" cy=\"-166\" rx=\"57.39\" ry=\"18\"/>\n<text text-anchor=\"middle\" x=\"410.14\" y=\"-162.3\" font-family=\"Times,serif\" font-size=\"14.00\">slippery road</text>\n</g>\n<!-- low speed due to long vehicle queues -->\n<g id=\"node4\" class=\"node\">\n<title>low speed due to long vehicle queues</title>\n<ellipse fill=\"none\" stroke=\"black\" cx=\"410.14\" cy=\"-90\" rx=\"143.77\" ry=\"18\"/>\n<text text-anchor=\"middle\" x=\"410.14\" y=\"-86.3\" font-family=\"Times,serif\" font-size=\"14.00\">low speed due to long vehicle queues</text>\n</g>\n<!-- slippery road&#45;&gt;low speed due to long vehicle queues -->\n<g id=\"edge2\" class=\"edge\">\n<title>slippery road&#45;&gt;low speed due to long vehicle queues</title>\n<path fill=\"none\" stroke=\"black\" d=\"M410.14,-147.84C410.14,-139.06 410.14,-128.16 410.14,-118.27\"/>\n<polygon fill=\"black\" stroke=\"black\" points=\"413.64,-118.07 410.14,-108.07 406.64,-118.07 413.64,-118.07\"/>\n</g>\n<!-- low speed due to long vehicle queues&#45;&gt;late for work -->\n<g id=\"edge3\" class=\"edge\">\n<title>low speed due to long vehicle queues&#45;&gt;late for work</title>\n<path fill=\"none\" stroke=\"black\" d=\"M435.29,-72.23C449.69,-62.63 467.91,-50.49 483.3,-40.23\"/>\n<polygon fill=\"black\" stroke=\"black\" points=\"485.61,-42.89 491.99,-34.43 481.73,-37.07 485.61,-42.89\"/>\n</g>\n<!-- traffic jam -->\n<g id=\"node5\" class=\"node\">\n<title>traffic jam</title>\n<ellipse fill=\"none\" stroke=\"black\" cx=\"620.14\" cy=\"-90\" rx=\"48.19\" ry=\"18\"/>\n<text text-anchor=\"middle\" x=\"620.14\" y=\"-86.3\" font-family=\"Times,serif\" font-size=\"14.00\">traffic jam</text>\n</g>\n<!-- traffic jam&#45;&gt;late for work -->\n<g id=\"edge4\" class=\"edge\">\n<title>traffic jam&#45;&gt;late for work</title>\n<path fill=\"none\" stroke=\"black\" d=\"M597.61,-73.98C582.87,-64.15 563.38,-51.16 547.05,-40.27\"/>\n<polygon fill=\"black\" stroke=\"black\" points=\"548.62,-37.11 538.35,-34.48 544.73,-42.94 548.62,-37.11\"/>\n</g>\n<!-- getting up late -->\n<g id=\"node6\" class=\"node\">\n<title>getting up late</title>\n<ellipse fill=\"none\" stroke=\"black\" cx=\"748.14\" cy=\"-90\" rx=\"61.99\" ry=\"18\"/>\n<text text-anchor=\"middle\" x=\"748.14\" y=\"-86.3\" font-family=\"Times,serif\" font-size=\"14.00\">getting up late</text>\n</g>\n<!-- getting up late&#45;&gt;late for work -->\n<g id=\"edge5\" class=\"edge\">\n<title>getting up late&#45;&gt;late for work</title>\n<path fill=\"none\" stroke=\"black\" d=\"M706.75,-76.57C667.04,-64.64 607.04,-46.61 564.78,-33.91\"/>\n<polygon fill=\"black\" stroke=\"black\" points=\"565.56,-30.49 554.97,-30.97 563.54,-37.2 565.56,-30.49\"/>\n</g>\n<!-- car towing -->\n<g id=\"node7\" class=\"node\">\n<title>car towing</title>\n<ellipse fill=\"none\" stroke=\"black\" cx=\"753.14\" cy=\"-166\" rx=\"48.19\" ry=\"18\"/>\n<text text-anchor=\"middle\" x=\"753.14\" y=\"-162.3\" font-family=\"Times,serif\" font-size=\"14.00\">car towing</text>\n</g>\n<!-- snow -->\n<g id=\"node8\" class=\"node\">\n<title>snow</title>\n<ellipse fill=\"none\" stroke=\"black\" cx=\"410.14\" cy=\"-242\" rx=\"29.5\" ry=\"18\"/>\n<text text-anchor=\"middle\" x=\"410.14\" y=\"-238.3\" font-family=\"Times,serif\" font-size=\"14.00\">snow</text>\n</g>\n<!-- snow&#45;&gt;slippery road -->\n<g id=\"edge6\" class=\"edge\">\n<title>snow&#45;&gt;slippery road</title>\n<path fill=\"none\" stroke=\"black\" d=\"M410.14,-223.84C410.14,-215.06 410.14,-204.16 410.14,-194.27\"/>\n<polygon fill=\"black\" stroke=\"black\" points=\"413.64,-194.07 410.14,-184.07 406.64,-194.07 413.64,-194.07\"/>\n</g>\n<!-- car malfunction -->\n<g id=\"node9\" class=\"node\">\n<title>car malfunction</title>\n<ellipse fill=\"none\" stroke=\"black\" cx=\"753.14\" cy=\"-242\" rx=\"66.89\" ry=\"18\"/>\n<text text-anchor=\"middle\" x=\"753.14\" y=\"-238.3\" font-family=\"Times,serif\" font-size=\"14.00\">car malfunction</text>\n</g>\n<!-- car malfunction&#45;&gt;car towing -->\n<g id=\"edge7\" class=\"edge\">\n<title>car malfunction&#45;&gt;car towing</title>\n<path fill=\"none\" stroke=\"black\" d=\"M753.14,-223.84C753.14,-215.06 753.14,-204.16 753.14,-194.27\"/>\n<polygon fill=\"black\" stroke=\"black\" points=\"756.64,-194.07 753.14,-184.07 749.64,-194.07 756.64,-194.07\"/>\n</g>\n<!-- road is blocked -->\n<g id=\"node10\" class=\"node\">\n<title>road is blocked</title>\n<ellipse fill=\"none\" stroke=\"black\" cx=\"124.14\" cy=\"-166\" rx=\"64.99\" ry=\"18\"/>\n<ellipse fill=\"none\" stroke=\"black\" cx=\"124.14\" cy=\"-166\" rx=\"68.99\" ry=\"22\"/>\n<text text-anchor=\"middle\" x=\"124.14\" y=\"-162.3\" font-family=\"Times,serif\" font-size=\"14.00\">road is blocked</text>\n</g>\n<!-- road is blocked&#45;&gt;taking a longer alternative route -->\n<g id=\"edge8\" class=\"edge\">\n<title>road is blocked&#45;&gt;taking a longer alternative route</title>\n<path fill=\"none\" stroke=\"black\" d=\"M124.14,-143.99C124.14,-136.06 124.14,-126.91 124.14,-118.48\"/>\n<polygon fill=\"black\" stroke=\"black\" points=\"127.64,-118.31 124.14,-108.31 120.64,-118.31 127.64,-118.31\"/>\n</g>\n<!-- traffic accident -->\n<g id=\"node11\" class=\"node\">\n<title>traffic accident</title>\n<ellipse fill=\"none\" stroke=\"black\" cx=\"620.14\" cy=\"-166\" rx=\"63.89\" ry=\"18\"/>\n<text text-anchor=\"middle\" x=\"620.14\" y=\"-162.3\" font-family=\"Times,serif\" font-size=\"14.00\">traffic accident</text>\n</g>\n<!-- traffic accident&#45;&gt;traffic jam -->\n<g id=\"edge9\" class=\"edge\">\n<title>traffic accident&#45;&gt;traffic jam</title>\n<path fill=\"none\" stroke=\"black\" d=\"M620.14,-147.84C620.14,-139.06 620.14,-128.16 620.14,-118.27\"/>\n<polygon fill=\"black\" stroke=\"black\" points=\"623.64,-118.07 620.14,-108.07 616.64,-118.07 623.64,-118.07\"/>\n</g>\n<!-- heavy rain -->\n<g id=\"node12\" class=\"node\">\n<title>heavy rain</title>\n<ellipse fill=\"none\" stroke=\"black\" cx=\"620.14\" cy=\"-242\" rx=\"48.19\" ry=\"18\"/>\n<text text-anchor=\"middle\" x=\"620.14\" y=\"-238.3\" font-family=\"Times,serif\" font-size=\"14.00\">heavy rain</text>\n</g>\n<!-- heavy rain&#45;&gt;traffic accident -->\n<g id=\"edge10\" class=\"edge\">\n<title>heavy rain&#45;&gt;traffic accident</title>\n<path fill=\"none\" stroke=\"black\" d=\"M620.14,-223.84C620.14,-215.06 620.14,-204.16 620.14,-194.27\"/>\n<polygon fill=\"black\" stroke=\"black\" points=\"623.64,-194.07 620.14,-184.07 616.64,-194.07 623.64,-194.07\"/>\n</g>\n</g>\n</svg>\n",
            "text/plain": [
              "<graphviz.graphs.Digraph at 0x794da6856110>"
            ]
          },
          "metadata": {},
          "execution_count": 26
        }
      ],
      "source": [
        "late_to_work_do.draw()"
      ]
    },
    {
      "cell_type": "markdown",
      "id": "93c3bfd3",
      "metadata": {
        "id": "93c3bfd3"
      },
      "source": [
        "### Step 1.6: Show the Joint Distibution of the Causal Network with the intervention \"on\" (1%)"
      ]
    },
    {
      "cell_type": "code",
      "execution_count": null,
      "id": "54ef9671",
      "metadata": {
        "id": "54ef9671",
        "colab": {
          "base_uri": "https://localhost:8080/"
        },
        "outputId": "8935a95d-a686-41da-f720-3d1506b5c445"
      },
      "outputs": [
        {
          "output_type": "stream",
          "name": "stdout",
          "text": [
            "P(getting up late)P(snow)P(car malfunction)P(heavy rain)P(slippery road|snow)P(car towing|car malfunction)P(taking a longer alternative route|do(road is blocked))P(traffic accident|heavy rain)P(low speed due to long vehicle queues|slippery road)P(traffic jam|traffic accident)P(late for work|low speed due to long vehicle queues,traffic jam,getting up late,taking a longer alternative route)\n"
          ]
        }
      ],
      "source": [
        "print(late_to_work_do.get_distribution())"
      ]
    },
    {
      "cell_type": "markdown",
      "id": "15270698",
      "metadata": {
        "id": "15270698"
      },
      "source": [
        "***\n",
        "## Note\n",
        "In <b>Step 2</b> you need to transform the model, you have built in Step 1, to a Bayesian Network. Here, you will need to repeat some of the activities you have already done in E-tivity 2. Please, consider all the random variables <b>X</b> binary and the probability distribution of each variable as <b>{true=50%, false=50%}</b>.\n",
        "***"
      ]
    },
    {
      "cell_type": "markdown",
      "id": "e9de73a9",
      "metadata": {
        "id": "e9de73a9"
      },
      "source": [
        "## Step 2: Create and Execute the Bayesian Network (50%)"
      ]
    },
    {
      "cell_type": "markdown",
      "id": "bd3ae2ef",
      "metadata": {
        "id": "bd3ae2ef"
      },
      "source": [
        "### Step 2.1: Create and show the DAG of the Bayesian Network (20%)"
      ]
    },
    {
      "cell_type": "code",
      "execution_count": null,
      "id": "c350d2fb",
      "metadata": {
        "id": "c350d2fb",
        "colab": {
          "base_uri": "https://localhost:8080/"
        },
        "outputId": "4acf5554-694a-4204-8f05-b174c3f17c8f"
      },
      "outputs": [
        {
          "output_type": "stream",
          "name": "stdout",
          "text": [
            "Collecting pgmpy\n",
            "  Downloading pgmpy-0.1.25-py3-none-any.whl (2.0 MB)\n",
            "\u001b[2K     \u001b[90m━━━━━━━━━━━━━━━━━━━━━━━━━━━━━━━━━━━━━━━━\u001b[0m \u001b[32m2.0/2.0 MB\u001b[0m \u001b[31m11.2 MB/s\u001b[0m eta \u001b[36m0:00:00\u001b[0m\n",
            "\u001b[?25hRequirement already satisfied: networkx in /usr/local/lib/python3.10/dist-packages (from pgmpy) (3.3)\n",
            "Requirement already satisfied: numpy in /usr/local/lib/python3.10/dist-packages (from pgmpy) (1.25.2)\n",
            "Requirement already satisfied: scipy in /usr/local/lib/python3.10/dist-packages (from pgmpy) (1.11.4)\n",
            "Requirement already satisfied: scikit-learn in /usr/local/lib/python3.10/dist-packages (from pgmpy) (1.2.2)\n",
            "Requirement already satisfied: pandas in /usr/local/lib/python3.10/dist-packages (from pgmpy) (2.0.3)\n",
            "Requirement already satisfied: pyparsing in /usr/local/lib/python3.10/dist-packages (from pgmpy) (3.1.2)\n",
            "Requirement already satisfied: torch in /usr/local/lib/python3.10/dist-packages (from pgmpy) (2.2.1+cu121)\n",
            "Requirement already satisfied: statsmodels in /usr/local/lib/python3.10/dist-packages (from pgmpy) (0.14.2)\n",
            "Requirement already satisfied: tqdm in /usr/local/lib/python3.10/dist-packages (from pgmpy) (4.66.2)\n",
            "Requirement already satisfied: joblib in /usr/local/lib/python3.10/dist-packages (from pgmpy) (1.4.0)\n",
            "Requirement already satisfied: opt-einsum in /usr/local/lib/python3.10/dist-packages (from pgmpy) (3.3.0)\n",
            "Requirement already satisfied: python-dateutil>=2.8.2 in /usr/local/lib/python3.10/dist-packages (from pandas->pgmpy) (2.8.2)\n",
            "Requirement already satisfied: pytz>=2020.1 in /usr/local/lib/python3.10/dist-packages (from pandas->pgmpy) (2023.4)\n",
            "Requirement already satisfied: tzdata>=2022.1 in /usr/local/lib/python3.10/dist-packages (from pandas->pgmpy) (2024.1)\n",
            "Requirement already satisfied: threadpoolctl>=2.0.0 in /usr/local/lib/python3.10/dist-packages (from scikit-learn->pgmpy) (3.4.0)\n",
            "Requirement already satisfied: patsy>=0.5.6 in /usr/local/lib/python3.10/dist-packages (from statsmodels->pgmpy) (0.5.6)\n",
            "Requirement already satisfied: packaging>=21.3 in /usr/local/lib/python3.10/dist-packages (from statsmodels->pgmpy) (24.0)\n",
            "Requirement already satisfied: filelock in /usr/local/lib/python3.10/dist-packages (from torch->pgmpy) (3.13.4)\n",
            "Requirement already satisfied: typing-extensions>=4.8.0 in /usr/local/lib/python3.10/dist-packages (from torch->pgmpy) (4.11.0)\n",
            "Requirement already satisfied: sympy in /usr/local/lib/python3.10/dist-packages (from torch->pgmpy) (1.12)\n",
            "Requirement already satisfied: jinja2 in /usr/local/lib/python3.10/dist-packages (from torch->pgmpy) (3.1.3)\n",
            "Requirement already satisfied: fsspec in /usr/local/lib/python3.10/dist-packages (from torch->pgmpy) (2023.6.0)\n",
            "Collecting nvidia-cuda-nvrtc-cu12==12.1.105 (from torch->pgmpy)\n",
            "  Using cached nvidia_cuda_nvrtc_cu12-12.1.105-py3-none-manylinux1_x86_64.whl (23.7 MB)\n",
            "Collecting nvidia-cuda-runtime-cu12==12.1.105 (from torch->pgmpy)\n",
            "  Using cached nvidia_cuda_runtime_cu12-12.1.105-py3-none-manylinux1_x86_64.whl (823 kB)\n",
            "Collecting nvidia-cuda-cupti-cu12==12.1.105 (from torch->pgmpy)\n",
            "  Using cached nvidia_cuda_cupti_cu12-12.1.105-py3-none-manylinux1_x86_64.whl (14.1 MB)\n",
            "Collecting nvidia-cudnn-cu12==8.9.2.26 (from torch->pgmpy)\n",
            "  Using cached nvidia_cudnn_cu12-8.9.2.26-py3-none-manylinux1_x86_64.whl (731.7 MB)\n",
            "Collecting nvidia-cublas-cu12==12.1.3.1 (from torch->pgmpy)\n",
            "  Using cached nvidia_cublas_cu12-12.1.3.1-py3-none-manylinux1_x86_64.whl (410.6 MB)\n",
            "Collecting nvidia-cufft-cu12==11.0.2.54 (from torch->pgmpy)\n",
            "  Using cached nvidia_cufft_cu12-11.0.2.54-py3-none-manylinux1_x86_64.whl (121.6 MB)\n",
            "Collecting nvidia-curand-cu12==10.3.2.106 (from torch->pgmpy)\n",
            "  Using cached nvidia_curand_cu12-10.3.2.106-py3-none-manylinux1_x86_64.whl (56.5 MB)\n",
            "Collecting nvidia-cusolver-cu12==11.4.5.107 (from torch->pgmpy)\n",
            "  Using cached nvidia_cusolver_cu12-11.4.5.107-py3-none-manylinux1_x86_64.whl (124.2 MB)\n",
            "Collecting nvidia-cusparse-cu12==12.1.0.106 (from torch->pgmpy)\n",
            "  Using cached nvidia_cusparse_cu12-12.1.0.106-py3-none-manylinux1_x86_64.whl (196.0 MB)\n",
            "Collecting nvidia-nccl-cu12==2.19.3 (from torch->pgmpy)\n",
            "  Using cached nvidia_nccl_cu12-2.19.3-py3-none-manylinux1_x86_64.whl (166.0 MB)\n",
            "Collecting nvidia-nvtx-cu12==12.1.105 (from torch->pgmpy)\n",
            "  Using cached nvidia_nvtx_cu12-12.1.105-py3-none-manylinux1_x86_64.whl (99 kB)\n",
            "Requirement already satisfied: triton==2.2.0 in /usr/local/lib/python3.10/dist-packages (from torch->pgmpy) (2.2.0)\n",
            "Collecting nvidia-nvjitlink-cu12 (from nvidia-cusolver-cu12==11.4.5.107->torch->pgmpy)\n",
            "  Using cached nvidia_nvjitlink_cu12-12.4.127-py3-none-manylinux2014_x86_64.whl (21.1 MB)\n",
            "Requirement already satisfied: six in /usr/local/lib/python3.10/dist-packages (from patsy>=0.5.6->statsmodels->pgmpy) (1.16.0)\n",
            "Requirement already satisfied: MarkupSafe>=2.0 in /usr/local/lib/python3.10/dist-packages (from jinja2->torch->pgmpy) (2.1.5)\n",
            "Requirement already satisfied: mpmath>=0.19 in /usr/local/lib/python3.10/dist-packages (from sympy->torch->pgmpy) (1.3.0)\n",
            "Installing collected packages: nvidia-nvtx-cu12, nvidia-nvjitlink-cu12, nvidia-nccl-cu12, nvidia-curand-cu12, nvidia-cufft-cu12, nvidia-cuda-runtime-cu12, nvidia-cuda-nvrtc-cu12, nvidia-cuda-cupti-cu12, nvidia-cublas-cu12, nvidia-cusparse-cu12, nvidia-cudnn-cu12, nvidia-cusolver-cu12, pgmpy\n",
            "Successfully installed nvidia-cublas-cu12-12.1.3.1 nvidia-cuda-cupti-cu12-12.1.105 nvidia-cuda-nvrtc-cu12-12.1.105 nvidia-cuda-runtime-cu12-12.1.105 nvidia-cudnn-cu12-8.9.2.26 nvidia-cufft-cu12-11.0.2.54 nvidia-curand-cu12-10.3.2.106 nvidia-cusolver-cu12-11.4.5.107 nvidia-cusparse-cu12-12.1.0.106 nvidia-nccl-cu12-2.19.3 nvidia-nvjitlink-cu12-12.4.127 nvidia-nvtx-cu12-12.1.105 pgmpy-0.1.25\n"
          ]
        }
      ],
      "source": [
        "!pip install pgmpy\n",
        "from pgmpy.models import BayesianNetwork"
      ]
    },
    {
      "cell_type": "code",
      "source": [
        "from pgmpy.factors.discrete import TabularCPD\n",
        "import networkx as nx\n",
        "import pylab as plt"
      ],
      "metadata": {
        "id": "Ip2coabv5sD_"
      },
      "id": "Ip2coabv5sD_",
      "execution_count": null,
      "outputs": []
    },
    {
      "cell_type": "code",
      "source": [
        "model = BayesianNetwork([(X8,X1),(X6,X7),(X7,X2),(X2,X1),(X5,X4),(X4,X3),(X3,X1),(X11,X12),(X12,X9),(X9,X10),(X10,X1)])\n",
        "\n",
        "nx_graph = nx.DiGraph()\n",
        "nx_graph.add_nodes_from(model.nodes())\n",
        "nx_graph.add_edges_from(model.edges())\n",
        "\n",
        "nx.draw(nx_graph, with_labels=True)\n",
        "plt.show()"
      ],
      "metadata": {
        "colab": {
          "base_uri": "https://localhost:8080/",
          "height": 516
        },
        "id": "MF1kNc6c6HM-",
        "outputId": "3628c3eb-f3af-4781-c5ce-9e489e623816"
      },
      "id": "MF1kNc6c6HM-",
      "execution_count": null,
      "outputs": [
        {
          "output_type": "display_data",
          "data": {
            "text/plain": [
              "<Figure size 640x480 with 1 Axes>"
            ],
            "image/png": "[encoded data removed]"
          },
          "metadata": {}
        }
      ]
    },
    {
      "cell_type": "markdown",
      "id": "9fc20d41",
      "metadata": {
        "id": "9fc20d41"
      },
      "source": [
        "### Step 2.2: Create the Conditional Probability Distributions of the Bayesian Network (20%)"
      ]
    },
    {
      "cell_type": "markdown",
      "id": "c75f3377",
      "metadata": {
        "id": "c75f3377"
      },
      "source": [
        "#### Step 2.2.1: Build the probability distribution tables with TabularCPD (16%)"
      ]
    },
    {
      "cell_type": "code",
      "execution_count": null,
      "id": "b4241adf",
      "metadata": {
        "id": "b4241adf"
      },
      "outputs": [],
      "source": [
        "# X1 = 'late for work'\n",
        "# X2 = 'low speed due to long vehicle queues'\n",
        "# X3 = 'traffic jam'\n",
        "# X4 = 'traffic accident'\n",
        "# X5 = 'heavy rain'\n",
        "# X6 = 'snow'\n",
        "# X7 = 'slippery road'\n",
        "# X8 = 'getting up late'\n",
        "# X9 = 'road is blocked'\n",
        "# X10 ='taking a longer alternative route'\n",
        "# X11 ='car malfunction'\n",
        "# X12 ='car towing'\n",
        "\n",
        "# define CPD for heavy rain\n",
        "cpd_X5 = TabularCPD (\n",
        "    variable=X5,\n",
        "    variable_card=2,\n",
        "    values=[[0.5], [0.5]]\n",
        "\n",
        ")\n",
        "\n",
        "# define CPD for traffic accident\n",
        "cpd_X4 = TabularCPD (\n",
        "    variable=X4,\n",
        "    variable_card=2,\n",
        "    values=[[0.5,0.5],\n",
        "            [0.5,0.5]],\n",
        "    evidence=[X5],\n",
        "    evidence_card=[2]\n",
        ")\n",
        "\n",
        "# define CPD for traffic jam\n",
        "cpd_X3 = TabularCPD (\n",
        "    variable=X3,\n",
        "    variable_card=2,\n",
        "    values=[[0.5,0.5],\n",
        "            [0.5,0.5]],\n",
        "    evidence=[X4],\n",
        "    evidence_card=[2]\n",
        ")\n",
        "\n",
        "# define CPD for snow\n",
        "cpd_X6 = TabularCPD (\n",
        "    variable=X6,\n",
        "    variable_card=2,\n",
        "    values=[[0.5], [0.5]]\n",
        ")\n",
        "\n",
        "# define CPD for slippery road\n",
        "cpd_X7 = TabularCPD (\n",
        "    variable=X7,\n",
        "    variable_card=2,\n",
        "    values=[[0.5,0.5],\n",
        "            [0.5,0.5]],\n",
        "    evidence=[X6],\n",
        "    evidence_card=[2]\n",
        "\n",
        ")\n",
        "\n",
        "# define CPD for low speed due to long vehicle queues\n",
        "cpd_X2 = TabularCPD (\n",
        "    variable= X2,\n",
        "    variable_card=2,\n",
        "   values=[[0.5,0.5],\n",
        "            [0.5,0.5]],\n",
        "     evidence=[X7],\n",
        "    evidence_card=[2]\n",
        ")\n",
        "\n",
        "\n",
        "# define CPD for car malfunction\n",
        "cpd_X11 = TabularCPD (\n",
        "    variable=X11,\n",
        "    variable_card=2,\n",
        "    values=[[0.5], [0.5]]\n",
        ")\n",
        "\n",
        "# define CPD for car towing\n",
        "cpd_X12 = TabularCPD (\n",
        "    variable=X12,\n",
        "    variable_card=2,\n",
        "   values=[[0.5,0.5],\n",
        "            [0.5,0.5]],\n",
        "     evidence=[X11],\n",
        "    evidence_card=[2]\n",
        ")\n",
        "\n",
        "# define CPD for road is blocked\n",
        "cpd_X9 = TabularCPD (\n",
        "    variable=X9,\n",
        "    variable_card=2,\n",
        "    values=[[0.5,0.5],\n",
        "            [0.5,0.5]],\n",
        "     evidence=[X12],\n",
        "    evidence_card=[2]\n",
        ")\n",
        "\n",
        "# define CPD for taking a longer alternative route\n",
        "cpd_X10 = TabularCPD (\n",
        "    variable=X10,\n",
        "    variable_card=2,\n",
        "    values=[[0.5,0.5],\n",
        "            [0.5,0.5]],\n",
        "     evidence=[X9],\n",
        "    evidence_card=[2]\n",
        ")\n",
        "\n",
        "# define CPD for getting up late\n",
        "cpd_X8 = TabularCPD (\n",
        "    variable=X8,\n",
        "    variable_card=2,\n",
        "    values=[[0.5], [0.5]]\n",
        ")\n",
        "\n",
        "# define CPD for late for work\n",
        "cpd_X1 = TabularCPD (\n",
        "    variable=X1,\n",
        "    variable_card=2,\n",
        "    values=[[0.5,0.5,0.5,0.5,0.5,0.5,0.5,0.5,0.5,0.5,0.5,0.5,0.5,0.5,0.5,0.5],\n",
        "            [0.5,0.5,0.5,0.5,0.5,0.5,0.5,0.5,0.5,0.5,0.5,0.5,0.5,0.5,0.5,0.5]],\n",
        "    # define the evidences - one of the causes must be true\n",
        "    evidence=[X8,X3,X2,X10],\n",
        "    evidence_card=[2,2,2,2]\n",
        ")"
      ]
    },
    {
      "cell_type": "markdown",
      "id": "b6b85948",
      "metadata": {
        "id": "b6b85948"
      },
      "source": [
        "#### Step 2.2.2: Associate the distribution models with the network structure (2%)"
      ]
    },
    {
      "cell_type": "code",
      "execution_count": null,
      "id": "9c60a865",
      "metadata": {
        "id": "9c60a865",
        "colab": {
          "base_uri": "https://localhost:8080/"
        },
        "outputId": "07b002f4-4790-4042-99a4-67f88af4e3a8"
      },
      "outputs": [
        {
          "output_type": "stream",
          "name": "stderr",
          "text": [
            "WARNING:pgmpy:Replacing existing CPD for late for work\n",
            "WARNING:pgmpy:Replacing existing CPD for low speed due to long vehicle queues\n",
            "WARNING:pgmpy:Replacing existing CPD for traffic jam\n",
            "WARNING:pgmpy:Replacing existing CPD for traffic accident\n",
            "WARNING:pgmpy:Replacing existing CPD for heavy rain\n",
            "WARNING:pgmpy:Replacing existing CPD for snow\n",
            "WARNING:pgmpy:Replacing existing CPD for slippery road\n",
            "WARNING:pgmpy:Replacing existing CPD for getting up late\n",
            "WARNING:pgmpy:Replacing existing CPD for road is blocked\n",
            "WARNING:pgmpy:Replacing existing CPD for taking a longer alternative route\n",
            "WARNING:pgmpy:Replacing existing CPD for car malfunction\n",
            "WARNING:pgmpy:Replacing existing CPD for car towing\n"
          ]
        }
      ],
      "source": [
        "# we associate the distribution models with the network structure, i.e., with the random variables\n",
        "model.add_cpds(cpd_X1,cpd_X2,cpd_X3,cpd_X4,cpd_X5,cpd_X6,cpd_X7,cpd_X8,cpd_X9,cpd_X10,cpd_X11,cpd_X12)"
      ]
    },
    {
      "cell_type": "markdown",
      "id": "5a52a7fa",
      "metadata": {
        "id": "5a52a7fa"
      },
      "source": [
        "#### Step 2.2.3: Check the model (2%)"
      ]
    },
    {
      "cell_type": "code",
      "execution_count": null,
      "id": "06b6fdc3",
      "metadata": {
        "id": "06b6fdc3",
        "colab": {
          "base_uri": "https://localhost:8080/"
        },
        "outputId": "112f91c7-b2d1-4763-b5aa-f5a77f33fd12"
      },
      "outputs": [
        {
          "output_type": "execute_result",
          "data": {
            "text/plain": [
              "True"
            ]
          },
          "metadata": {},
          "execution_count": 50
        }
      ],
      "source": [
        "model.check_model()"
      ]
    },
    {
      "cell_type": "markdown",
      "id": "9b258b7f",
      "metadata": {
        "id": "9b258b7f"
      },
      "source": [
        "### Step 2.3: Infer Posterior Probability of “road is blocked” considering \"late for work\" as evidence. (10%)"
      ]
    },
    {
      "cell_type": "code",
      "execution_count": null,
      "id": "a1acf2f0",
      "metadata": {
        "id": "a1acf2f0"
      },
      "outputs": [],
      "source": [
        "from pgmpy.inference import VariableElimination\n",
        "\n",
        "infer = VariableElimination(model)"
      ]
    },
    {
      "cell_type": "code",
      "execution_count": null,
      "id": "983fabb1",
      "metadata": {
        "id": "983fabb1"
      },
      "outputs": [],
      "source": [
        "posterior_p = infer.query([X9], evidence={X1: 0})"
      ]
    },
    {
      "cell_type": "code",
      "source": [
        "print(posterior_p)"
      ],
      "metadata": {
        "colab": {
          "base_uri": "https://localhost:8080/"
        },
        "id": "c8BIb0juKjf4",
        "outputId": "de55b988-7819-45b8-f558-49d1926d5da0"
      },
      "id": "c8BIb0juKjf4",
      "execution_count": null,
      "outputs": [
        {
          "output_type": "stream",
          "name": "stdout",
          "text": [
            "+--------------------+------------------------+\n",
            "| road is blocked    |   phi(road is blocked) |\n",
            "+====================+========================+\n",
            "| road is blocked(0) |                 0.5000 |\n",
            "+--------------------+------------------------+\n",
            "| road is blocked(1) |                 0.5000 |\n",
            "+--------------------+------------------------+\n"
          ]
        }
      ]
    },
    {
      "cell_type": "code",
      "source": [],
      "metadata": {
        "id": "D3LYUVmeKng6"
      },
      "id": "D3LYUVmeKng6",
      "execution_count": null,
      "outputs": []
    }
  ],
  "metadata": {
    "kernelspec": {
      "display_name": "Python 3 (ipykernel)",
      "language": "python",
      "name": "python3"
    },
    "language_info": {
      "codemirror_mode": {
        "name": "ipython",
        "version": 3
      },
      "file_extension": ".py",
      "mimetype": "text/x-python",
      "name": "python",
      "nbconvert_exporter": "python",
      "pygments_lexer": "ipython3",
      "version": "3.9.7"
    },
    "colab": {
      "provenance": []
    }
  },
  "nbformat": 4,
  "nbformat_minor": 5
}